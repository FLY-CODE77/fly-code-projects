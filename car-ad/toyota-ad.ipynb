{
 "cells": [
  {
   "cell_type": "markdown",
   "metadata": {},
   "source": [
    "# sql load example "
   ]
  },
  {
   "cell_type": "code",
   "execution_count": 26,
   "metadata": {},
   "outputs": [],
   "source": [
    "import pymysql\n",
    "import pandas as pd\n",
    "\n",
    "def login():\n",
    "    mydb = pymysql.connect(\n",
    "        user='root',\n",
    "        passwd='dss',\n",
    "        host='34.64.111.84',\n",
    "        db='my_db',\n",
    "        charset='utf8'\n",
    "    )\n",
    "    cursor = mydb.cursor(pymysql.cursors.DictCursor)\n",
    "    return mydb, cursor"
   ]
  },
  {
   "cell_type": "code",
   "execution_count": 27,
   "metadata": {},
   "outputs": [],
   "source": [
    "mydb, cursor = login()"
   ]
  },
  {
   "cell_type": "code",
   "execution_count": 28,
   "metadata": {},
   "outputs": [],
   "source": [
    "qry1 = (\"\"\"\n",
    "SELECT * FROM my_db.naver_query;\n",
    "\"\"\")"
   ]
  },
  {
   "cell_type": "code",
   "execution_count": 29,
   "metadata": {},
   "outputs": [
    {
     "data": {
      "text/plain": [
       "3356970"
      ]
     },
     "execution_count": 29,
     "metadata": {},
     "output_type": "execute_result"
    }
   ],
   "source": [
    "cursor.execute(qry1)\n",
    "rlt1 = cursor.fetchall()\n",
    "df_1 = pd.DataFrame(rlt1)\n",
    "\n",
    "df_1.to_csv(\"naver_query.csv\", index=False)"
   ]
  },
  {
   "cell_type": "markdown",
   "metadata": {},
   "source": [
    "# module load"
   ]
  },
  {
   "cell_type": "code",
   "execution_count": 3,
   "metadata": {},
   "outputs": [],
   "source": [
    "import pandas as pd\n",
    "import numpy as np\n",
    "import matplotlib.pylab as plt"
   ]
  },
  {
   "cell_type": "markdown",
   "metadata": {},
   "source": [
    "# data load "
   ]
  },
  {
   "cell_type": "code",
   "execution_count": 65,
   "metadata": {},
   "outputs": [],
   "source": [
    "naver_query = pd.read_csv(\"naver_query.csv\")\n",
    "my_db = pd.read_csv(\"my_db.csv\")"
   ]
  },
  {
   "cell_type": "markdown",
   "metadata": {},
   "source": [
    "# kaida first"
   ]
  },
  {
   "cell_type": "code",
   "execution_count": 161,
   "metadata": {},
   "outputs": [],
   "source": [
    "kaida = pd.read_csv(\"kaida.csv\")"
   ]
  },
  {
   "cell_type": "code",
   "execution_count": 162,
   "metadata": {
    "scrolled": true
   },
   "outputs": [],
   "source": [
    "# I need datetime \n",
    "kaida[\"date\"] = (kaida[\"year\"].map(str) + \"-\" + kaida[\"month\"].str.replace(\"월\", \"\"))\n",
    "kaida[\"date\"] = pd.to_datetime(kaida[\"date\"])\n",
    "\n",
    "kaida.drop([\"month\", \"year\"], axis=1, inplace=True)\n",
    "\n",
    "# I need int type in value \n",
    "kaida[\"value\"] = kaida[\"value\"].str.replace(\",\",\"\")\n",
    "kaida[\"value\"] = kaida[\"value\"] .astype(int)"
   ]
  },
  {
   "cell_type": "code",
   "execution_count": 163,
   "metadata": {},
   "outputs": [
    {
     "data": {
      "text/html": [
       "<div>\n",
       "<style scoped>\n",
       "    .dataframe tbody tr th:only-of-type {\n",
       "        vertical-align: middle;\n",
       "    }\n",
       "\n",
       "    .dataframe tbody tr th {\n",
       "        vertical-align: top;\n",
       "    }\n",
       "\n",
       "    .dataframe thead th {\n",
       "        text-align: right;\n",
       "    }\n",
       "</style>\n",
       "<table border=\"1\" class=\"dataframe\">\n",
       "  <thead>\n",
       "    <tr style=\"text-align: right;\">\n",
       "      <th></th>\n",
       "      <th>brand</th>\n",
       "      <th>model</th>\n",
       "      <th>value</th>\n",
       "      <th>sales_type</th>\n",
       "      <th>age</th>\n",
       "      <th>date</th>\n",
       "    </tr>\n",
       "  </thead>\n",
       "  <tbody>\n",
       "    <tr>\n",
       "      <th>0</th>\n",
       "      <td>BMW</td>\n",
       "      <td>218dGranCoupe</td>\n",
       "      <td>0</td>\n",
       "      <td>개인-남자</td>\n",
       "      <td>~19</td>\n",
       "      <td>2021-01-01</td>\n",
       "    </tr>\n",
       "    <tr>\n",
       "      <th>1</th>\n",
       "      <td>BMW</td>\n",
       "      <td>520</td>\n",
       "      <td>1</td>\n",
       "      <td>개인-남자</td>\n",
       "      <td>~19</td>\n",
       "      <td>2021-01-01</td>\n",
       "    </tr>\n",
       "    <tr>\n",
       "      <th>2</th>\n",
       "      <td>Bentley</td>\n",
       "      <td>ContinentalGTV8</td>\n",
       "      <td>0</td>\n",
       "      <td>개인-남자</td>\n",
       "      <td>~19</td>\n",
       "      <td>2021-01-01</td>\n",
       "    </tr>\n",
       "    <tr>\n",
       "      <th>3</th>\n",
       "      <td>Honda</td>\n",
       "      <td>CR-VHybrid</td>\n",
       "      <td>0</td>\n",
       "      <td>개인-남자</td>\n",
       "      <td>~19</td>\n",
       "      <td>2021-01-01</td>\n",
       "    </tr>\n",
       "    <tr>\n",
       "      <th>4</th>\n",
       "      <td>Mercedes-Benz</td>\n",
       "      <td>E250</td>\n",
       "      <td>1</td>\n",
       "      <td>개인-남자</td>\n",
       "      <td>~19</td>\n",
       "      <td>2021-01-01</td>\n",
       "    </tr>\n",
       "  </tbody>\n",
       "</table>\n",
       "</div>"
      ],
      "text/plain": [
       "           brand            model  value sales_type  age       date\n",
       "0            BMW    218dGranCoupe      0      개인-남자  ~19 2021-01-01\n",
       "1            BMW              520      1      개인-남자  ~19 2021-01-01\n",
       "2        Bentley  ContinentalGTV8      0      개인-남자  ~19 2021-01-01\n",
       "3          Honda       CR-VHybrid      0      개인-남자  ~19 2021-01-01\n",
       "4  Mercedes-Benz             E250      1      개인-남자  ~19 2021-01-01"
      ]
     },
     "execution_count": 163,
     "metadata": {},
     "output_type": "execute_result"
    }
   ],
   "source": [
    "# data cleaning end!\n",
    "kaida.head()"
   ]
  },
  {
   "cell_type": "code",
   "execution_count": 164,
   "metadata": {},
   "outputs": [],
   "source": [
    "# For toyota\n",
    "toyota_kaida = kaida[kaida[\"brand\"] == \"Toyota\"]"
   ]
  },
  {
   "cell_type": "code",
   "execution_count": 168,
   "metadata": {},
   "outputs": [
    {
     "data": {
      "image/png": "[encoded data removed]",
      "text/plain": [
       "<Figure size 432x288 with 1 Axes>"
      ]
     },
     "metadata": {
      "needs_background": "light"
     },
     "output_type": "display_data"
    }
   ],
   "source": [
    "# toyota sales plot\n",
    "toyota_kaida.groupby(\"date\").sum().plot(title=\"toyota-sales\" , xlabel=\"time\" , ylabel=\"enrollment\")\n",
    "plt.show()"
   ]
  },
  {
   "cell_type": "code",
   "execution_count": 137,
   "metadata": {},
   "outputs": [],
   "source": [
    "# only toyota is such a hardtime? "
   ]
  },
  {
   "cell_type": "code",
   "execution_count": 143,
   "metadata": {},
   "outputs": [
    {
     "data": {
      "text/plain": [
       "0         0\n",
       "1         1\n",
       "2         0\n",
       "3         0\n",
       "4         1\n",
       "         ..\n",
       "321115    0\n",
       "321116    0\n",
       "321117    0\n",
       "321118    1\n",
       "321119    0\n",
       "Name: value, Length: 321120, dtype: object"
      ]
     },
     "execution_count": 143,
     "metadata": {},
     "output_type": "execute_result"
    }
   ],
   "source": [
    "kaida[\"value\"].rep"
   ]
  },
  {
   "cell_type": "code",
   "execution_count": null,
   "metadata": {},
   "outputs": [],
   "source": []
  }
 ],
 "metadata": {
  "kernelspec": {
   "display_name": "Python 3",
   "language": "python",
   "name": "python3"
  },
  "language_info": {
   "codemirror_mode": {
    "name": "ipython",
    "version": 3
   },
   "file_extension": ".py",
   "mimetype": "text/x-python",
   "name": "python",
   "nbconvert_exporter": "python",
   "pygments_lexer": "ipython3",
   "version": "3.8.3"
  }
 },
 "nbformat": 4,
 "nbformat_minor": 5
}
